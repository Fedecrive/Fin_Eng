{
 "cells": [
  {
   "cell_type": "markdown",
   "metadata": {},
   "source": [
    "# Mathematical Engineering - Financial Engineering, FY 2024-2025\n",
    "# Risk Management - Exercise 2: Corporate Bond Portfolio"
   ]
  },
  {
   "cell_type": "code",
   "execution_count": 13,
   "metadata": {},
   "outputs": [],
   "source": [
    "# Importing the libraries\n",
    "import pandas as pd\n",
    "import math\n",
    "import numpy as np\n",
    "import os\n",
    "import sys\n",
    "\n",
    "sys.path.insert(0, os.path.join(os.getcwd(), 'utilities'))\n",
    "\n",
    "from utilities.bootstrap import bootstrap\n",
    "from utilities.readExcelData import readExcelData\n",
    "from scipy.optimize import fsolve\n",
    "from utilities.ex1_utilities import business_date_offset, year_frac_act_x\n",
    "from utilities.ex2_utilities import (\n",
    "    defaultable_bond_dirty_price_from_intensity,\n",
    "    defaultable_bond_dirty_price_from_z_spread,\n",
    "    defaultable_bond_dirty_price_from_intensity_and_previous_lambda\n",
    ")"
   ]
  },
  {
   "cell_type": "code",
   "execution_count": 5,
   "metadata": {},
   "outputs": [
    {
     "name": "stdout",
     "output_type": "stream",
     "text": [
      "File found and loaded successfully!\n"
     ]
    }
   ],
   "source": [
    "# IMPORT DATASET\n",
    "# Se il sistema operativo è Windows usa 'cls', altrimenti usa 'clear'\n",
    "os.system('cls' if os.name == 'nt' else 'clear')\n",
    "\n",
    "# Read market data from Excel and obtain dates and rates information.\n",
    "[datesSet, ratesSet] = readExcelData()\n",
    "\n",
    "# Bootstrap to calculate discount factors based on market data.\n",
    "dates, discount_factors_appo = bootstrap(datesSet, ratesSet)\n",
    "\n",
    "# Ensure that the 'Date' column is in datetime format.\n",
    "dates[\"Date\"] = pd.to_datetime(dates[\"Date\"])\n",
    "\n",
    "# Create a Series using the 'Discount Factor' column as data and the 'Date' column as the index.\n",
    "discount_factors = pd.Series(\n",
    "    data=discount_factors_appo[\"Discount Factor\"].values,\n",
    "    index=dates[\"Date\"].values\n",
    ")\n",
    "\n",
    "# Set the current date as the settlement date from the datesSet.\n",
    "today = datesSet.settle\n",
    "\n",
    "\n",
    "# Parameters\n",
    "maturity1 = 1  # Maturity in years\n",
    "maturity2 = 2\n",
    "notional1 = 1e7\n",
    "notional2 = 1e7\n",
    "coupon_rate1 = 0.05\n",
    "coupon_rate2 = 0.06\n",
    "coupon_freq1 = 2  # Coupon frequency in payments a years\n",
    "coupon_freq2 = 2\n",
    "dirty_price1 = 100\n",
    "dirty_price2 = 102\n",
    "\n",
    "rating = \"IG\"  # Credit rating\n",
    "\n",
    "expiry1 = business_date_offset(today, year_offset=maturity1)\n",
    "expiry2 = business_date_offset(today, year_offset=maturity2)"
   ]
  },
  {
   "cell_type": "code",
   "execution_count": 6,
   "metadata": {},
   "outputs": [
    {
     "name": "stdout",
     "output_type": "stream",
     "text": [
      "##############################################\n",
      "###############     Q1      ##################\n",
      "\n",
      "Average intensity over 1y: 2.4389634240%\n",
      "Average intensity over 2y: 2.4337695778%\n"
     ]
    }
   ],
   "source": [
    "# Q1: Derive the average intensity for the two bonds\n",
    "print('##############################################')\n",
    "print('###############     Q1      ##################\\n')\n",
    "\n",
    "recovery_rate = 0.3\n",
    "\n",
    "h_1y = fsolve(\n",
    "    lambda intensity: defaultable_bond_dirty_price_from_intensity(\n",
    "        today,\n",
    "        expiry1,\n",
    "        coupon_rate1,\n",
    "        coupon_freq1,\n",
    "        recovery_rate,\n",
    "        intensity[0],\n",
    "        discount_factors,\n",
    "        100,\n",
    "    )\n",
    "    - dirty_price1,\n",
    "    x0=0.02,\n",
    ")[0]\n",
    "\n",
    "h_2y = fsolve(\n",
    "    lambda intensity: defaultable_bond_dirty_price_from_intensity(\n",
    "        today,\n",
    "        expiry2,\n",
    "        coupon_rate2,\n",
    "        coupon_freq2,\n",
    "        recovery_rate,\n",
    "        intensity[0],\n",
    "        discount_factors,\n",
    "        100,\n",
    "    )\n",
    "    - dirty_price2,\n",
    "    x0=0.02,\n",
    ")[0]\n",
    "\n",
    "print(f\"Average intensity over {maturity1}y: {h_1y:.10%}\")\n",
    "print(f\"Average intensity over {maturity2}y: {h_2y:.10%}\")"
   ]
  },
  {
   "cell_type": "markdown",
   "metadata": {},
   "source": [
    "##### Notice that we decided to use h_2y since it contains more information than the first one"
   ]
  },
  {
   "cell_type": "code",
   "execution_count": 7,
   "metadata": {},
   "outputs": [
    {
     "name": "stdout",
     "output_type": "stream",
     "text": [
      "\n",
      "\n",
      "##############################################\n",
      "###############     Q2      ##################\n",
      "\n",
      "1y default probability: 2.40439%\n",
      "2y default probability: 4.76367%\n"
     ]
    }
   ],
   "source": [
    "# Q2: Default probability estimates\n",
    "print('\\n\\n##############################################')\n",
    "print('###############     Q2      ##################\\n')\n",
    "\n",
    "yfrac_1y = year_frac_act_x(today, expiry1, 365)\n",
    "yfrac_2y = year_frac_act_x(today, expiry2, 365)\n",
    "\n",
    "surv_prob_1y = math.exp(- h_2y * yfrac_1y) \n",
    "surv_prob_2y = math.exp(- h_2y * yfrac_2y)\n",
    "\n",
    "# Defaul probabilities\n",
    "default_prob_1y = 1 - surv_prob_1y\n",
    "default_prob_2y = 1 - surv_prob_2y\n",
    "\n",
    "print(f\"{maturity1}y default probability: {default_prob_1y:.5%}\")\n",
    "print(f\"{maturity2}y default probability: {default_prob_2y:.5%}\")"
   ]
  },
  {
   "cell_type": "code",
   "execution_count": 8,
   "metadata": {},
   "outputs": [
    {
     "name": "stdout",
     "output_type": "stream",
     "text": [
      "\n",
      "\n",
      "##############################################\n",
      "###############     Q3      ##################\n",
      "\n",
      "Z-spread over 1y: 1.72144%\n",
      "Z-spread over 2y: 1.72730%\n"
     ]
    }
   ],
   "source": [
    "# Q3: Z-spread calculation\n",
    "print('\\n\\n##############################################')\n",
    "print('###############     Q3      ##################\\n')\n",
    "\n",
    "z_spread_1y = fsolve(\n",
    "    lambda z_spread: defaultable_bond_dirty_price_from_z_spread(\n",
    "        today,\n",
    "        expiry1,\n",
    "        coupon_rate1,\n",
    "        coupon_freq1,\n",
    "        z_spread[0],\n",
    "        discount_factors,\n",
    "        100,\n",
    "    )\n",
    "    - dirty_price1,\n",
    "    x0=0.02,\n",
    ")[0]\n",
    "\n",
    "z_spread_2y = fsolve(\n",
    "    lambda z_spread: defaultable_bond_dirty_price_from_z_spread(\n",
    "        today,\n",
    "        expiry2,\n",
    "        coupon_rate2,\n",
    "        coupon_freq2,\n",
    "        z_spread[0],\n",
    "        discount_factors,\n",
    "        100,\n",
    "    )\n",
    "    - dirty_price2,\n",
    "    x0=0.02,\n",
    ")[0]\n",
    "\n",
    "print(f\"Z-spread over {maturity1}y: {z_spread_1y:.5%}\")\n",
    "print(f\"Z-spread over {maturity2}y: {z_spread_2y:.5%}\")"
   ]
  },
  {
   "cell_type": "code",
   "execution_count": 9,
   "metadata": {},
   "outputs": [
    {
     "name": "stdout",
     "output_type": "stream",
     "text": [
      "\n",
      "\n",
      "##############################################\n",
      "###############     Q4      ##################\n",
      "\n",
      "h_1y: 2.43896%\n",
      "h_1y2y: 2.42823%\n",
      "---\n",
      "1y default probability: 2.40946%\n",
      "2y default probability: 4.76332%\n"
     ]
    }
   ],
   "source": [
    "# Q4: Default probability estimates under the hp. of piecewise constant intensity\n",
    "print('\\n\\n##############################################')\n",
    "print('###############     Q4      ##################\\n')\n",
    "\n",
    "h_1y2y = fsolve(\n",
    "    lambda intensity: defaultable_bond_dirty_price_from_intensity_and_previous_lambda(\n",
    "        today,\n",
    "        expiry2,\n",
    "        coupon_rate2,\n",
    "        coupon_freq2,\n",
    "        recovery_rate,\n",
    "        intensity[0],\n",
    "        discount_factors,\n",
    "        h_1y,\n",
    "        expiry1,\n",
    "        100,\n",
    "    )\n",
    "    - dirty_price2,\n",
    "    x0=0.02,\n",
    ")[0]\n",
    "\n",
    "\n",
    "deltas_1y = year_frac_act_x(today, expiry1, 365)\n",
    "deltas_2y = year_frac_act_x(expiry1, expiry2, 365)\n",
    "\n",
    "# Survival probabilities\n",
    "surv_prob_1y = math.exp(- h_1y * deltas_1y)\n",
    "surv_prob_2y = math.exp(- h_1y2y * deltas_2y - h_1y * deltas_1y)\n",
    "\n",
    "# Defaul probabilities\n",
    "default_prob_1y = 1 - surv_prob_1y\n",
    "default_prob_2y = 1 - surv_prob_2y\n",
    "\n",
    "print(f\"h_1y: {h_1y:.5%}\")\n",
    "print(f\"h_1y2y: {h_1y2y:.5%}\")\n",
    "print('---')\n",
    "print(f\"{maturity1}y default probability: {default_prob_1y:.5%}\")\n",
    "print(f\"{maturity2}y default probability: {default_prob_2y:.5%}\")"
   ]
  },
  {
   "cell_type": "code",
   "execution_count": 10,
   "metadata": {},
   "outputs": [
    {
     "name": "stdout",
     "output_type": "stream",
     "text": [
      "\n",
      "\n",
      "##############################################\n",
      "###############     Q5      ##################\n",
      "\n",
      "One year real world default probability: 2.00%\n",
      "Two year real world default probability: 4.71%\n"
     ]
    }
   ],
   "source": [
    "# Q5:Real world default probability from the rating transition matrix\n",
    "print('\\n\\n##############################################')\n",
    "print('###############     Q5      ##################\\n')\n",
    "\n",
    "# Simplified rating transition matrix at 1y\n",
    "transition_matrix = pd.DataFrame(\n",
    "    [[0.73, 0.25, 0.02], [0.35, 0.6, 0.05], [0, 0, 1]],\n",
    "    index=[\"IG\", \"HY\", \"Def\"],\n",
    "    columns=[\"IG\", \"HY\", \"Def\"],\n",
    ")\n",
    "\n",
    "# Convert DataFrame to NumPy array for matrix operations\n",
    "P_1 = transition_matrix.to_numpy()\n",
    "\n",
    "# Compute 2-year transition matrix (P²)\n",
    "P_2 = np.linalg.matrix_power(P_1, 2)\n",
    "\n",
    "print(\n",
    "    f\"One year real world default probability: {transition_matrix.at[rating, 'Def']:.2%}\"\n",
    ")\n",
    "print(\n",
    "    f\"Two year real world default probability: {P_2[0,2]:.2%}\"\n",
    ")"
   ]
  },
  {
   "cell_type": "code",
   "execution_count": 11,
   "metadata": {},
   "outputs": [
    {
     "name": "stdout",
     "output_type": "stream",
     "text": [
      "\n",
      "\n",
      "##############################################\n",
      "###############     Q6      ##################\n",
      "\n",
      "1y default probability: 2.40946%\n",
      "2y default probability: 11.92589%\n"
     ]
    }
   ],
   "source": [
    "# Q6: Estimate the default probabilities under a shock scenario of the mid-term survival probability (Scenario1)\n",
    "print('\\n\\n##############################################')\n",
    "print('###############     Q6      ##################\\n')\n",
    "\n",
    "dirty_price1_shock = dirty_price1\n",
    "dirty_price2_shock = 97.0\n",
    "\n",
    "h_1y_shock = h_1y\n",
    "h_1y2y_shock = fsolve(\n",
    "    lambda intensity: defaultable_bond_dirty_price_from_intensity_and_previous_lambda(\n",
    "        today,\n",
    "        expiry2,\n",
    "        coupon_rate2,\n",
    "        coupon_freq2,\n",
    "        recovery_rate,\n",
    "        intensity[0],\n",
    "        discount_factors,\n",
    "        h_1y_shock,\n",
    "        expiry1,\n",
    "        100,\n",
    "    )\n",
    "    - dirty_price2_shock,\n",
    "    x0=0.02,\n",
    ")[0]\n",
    "\n",
    "# Survival probabilities\n",
    "surv_prob_1y_shock = math.exp(- h_1y_shock * deltas_1y)\n",
    "surv_prob_2y_shock = math.exp(- h_1y2y_shock * deltas_2y - h_1y_shock * deltas_1y)\n",
    "\n",
    "# Defaul probabilities\n",
    "default_prob_1y_shock = 1 - surv_prob_1y_shock\n",
    "default_prob_2y_shock = 1 - surv_prob_2y_shock\n",
    "\n",
    "print(f\"{maturity1}y default probability: {default_prob_1y_shock:.5%}\")\n",
    "print(f\"{maturity2}y default probability: {default_prob_2y_shock:.5%}\")"
   ]
  },
  {
   "cell_type": "code",
   "execution_count": 12,
   "metadata": {},
   "outputs": [
    {
     "name": "stdout",
     "output_type": "stream",
     "text": [
      "\n",
      "\n",
      "##############################################\n",
      "###############     Q7      ##################\n",
      "\n",
      "1y default probability: 1.00%\n",
      "2y default probability: 3.43%\n",
      "\n",
      "\n"
     ]
    }
   ],
   "source": [
    "# Q7: Estimate the default probabilities under a shock scenario on overall creditworthiness (Scenario2)\n",
    "print('\\n\\n##############################################')\n",
    "print('###############     Q7      ##################\\n')\n",
    "\n",
    "dirty_price1_shock2 = 101.0\n",
    "dirty_price2_shock2 = 103.0\n",
    "\n",
    "h_1y_shock2 = fsolve(\n",
    "    lambda intensity: defaultable_bond_dirty_price_from_intensity(\n",
    "        today,\n",
    "        expiry1,\n",
    "        coupon_rate1,\n",
    "        coupon_freq1,\n",
    "        recovery_rate,\n",
    "        intensity[0],\n",
    "        discount_factors,\n",
    "        100,\n",
    "    )\n",
    "    - dirty_price1_shock2,\n",
    "    x0=0.02,\n",
    ")[0]\n",
    "\n",
    "h_1y2y_shock2 = fsolve(\n",
    "    lambda intensity: defaultable_bond_dirty_price_from_intensity_and_previous_lambda(\n",
    "        today,\n",
    "        expiry2,\n",
    "        coupon_rate2,\n",
    "        coupon_freq2,\n",
    "        recovery_rate,\n",
    "        intensity[0],\n",
    "        discount_factors,\n",
    "        h_1y_shock2,\n",
    "        expiry1,\n",
    "        100,\n",
    "    )\n",
    "    - dirty_price2_shock2,\n",
    "    x0=0.02,\n",
    ")[0]\n",
    "\n",
    "# Survival probabilities\n",
    "surv_prob_1y_shock2 = math.exp(- h_1y_shock2 * deltas_1y)\n",
    "surv_prob_2y_shock2 = math.exp(- h_1y2y_shock2 * deltas_2y - h_1y_shock2 * deltas_1y)\n",
    "\n",
    "# Defaul probabilities\n",
    "default_prob_1y_shock2 = 1 - surv_prob_1y_shock2\n",
    "default_prob_2y_shock2 = 1 - surv_prob_2y_shock2\n",
    "\n",
    "print(f\"{maturity1}y default probability: {default_prob_1y_shock2:.2%}\")\n",
    "print(f\"{maturity2}y default probability: {default_prob_2y_shock2:.2%}\")\n",
    "print('\\n')"
   ]
  }
 ],
 "metadata": {
  "kernelspec": {
   "display_name": "venv",
   "language": "python",
   "name": "python3"
  },
  "language_info": {
   "codemirror_mode": {
    "name": "ipython",
    "version": 3
   },
   "file_extension": ".py",
   "mimetype": "text/x-python",
   "name": "python",
   "nbconvert_exporter": "python",
   "pygments_lexer": "ipython3",
   "version": "3.12.4"
  }
 },
 "nbformat": 4,
 "nbformat_minor": 2
}
